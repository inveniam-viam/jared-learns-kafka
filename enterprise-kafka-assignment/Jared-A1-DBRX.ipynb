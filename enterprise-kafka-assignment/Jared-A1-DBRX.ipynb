{
 "cells": [
  {
   "cell_type": "code",
   "execution_count": 0,
   "metadata": {
    "application/vnd.databricks.v1+cell": {
     "cellMetadata": {
      "byteLimit": 2048000,
      "rowLimit": 10000
     },
     "inputWidgets": {},
     "nuid": "2c65d477-a01a-444b-969f-560fa341c0c9",
     "showTitle": false,
     "title": ""
    }
   },
   "outputs": [
    {
     "output_type": "stream",
     "name": "stdout",
     "output_type": "stream",
     "text": [
      "WARNING: Package(s) not found: confluent-kafka\n"
     ]
    },
    {
     "output_type": "display_data",
     "data": {
      "text/plain": [
       "\u001B[0;31m---------------------------------------------------------------------------\u001B[0m\n",
       "\u001B[0;31mCalledProcessError\u001B[0m                        Traceback (most recent call last)\n",
       "File \u001B[0;32m<command-2359194822492251>, line 1\u001B[0m\n",
       "\u001B[0;32m----> 1\u001B[0m \u001B[43mget_ipython\u001B[49m\u001B[43m(\u001B[49m\u001B[43m)\u001B[49m\u001B[38;5;241;43m.\u001B[39;49m\u001B[43mrun_line_magic\u001B[49m\u001B[43m(\u001B[49m\u001B[38;5;124;43m'\u001B[39;49m\u001B[38;5;124;43mpip\u001B[39;49m\u001B[38;5;124;43m'\u001B[39;49m\u001B[43m,\u001B[49m\u001B[43m \u001B[49m\u001B[38;5;124;43m'\u001B[39;49m\u001B[38;5;124;43mshow confluent-kafka\u001B[39;49m\u001B[38;5;124;43m'\u001B[39;49m\u001B[43m)\u001B[49m\n",
       "\n",
       "File \u001B[0;32m/databricks/python/lib/python3.10/site-packages/IPython/core/interactiveshell.py:2417\u001B[0m, in \u001B[0;36mInteractiveShell.run_line_magic\u001B[0;34m(self, magic_name, line, _stack_depth)\u001B[0m\n",
       "\u001B[1;32m   2415\u001B[0m     kwargs[\u001B[38;5;124m'\u001B[39m\u001B[38;5;124mlocal_ns\u001B[39m\u001B[38;5;124m'\u001B[39m] \u001B[38;5;241m=\u001B[39m \u001B[38;5;28mself\u001B[39m\u001B[38;5;241m.\u001B[39mget_local_scope(stack_depth)\n",
       "\u001B[1;32m   2416\u001B[0m \u001B[38;5;28;01mwith\u001B[39;00m \u001B[38;5;28mself\u001B[39m\u001B[38;5;241m.\u001B[39mbuiltin_trap:\n",
       "\u001B[0;32m-> 2417\u001B[0m     result \u001B[38;5;241m=\u001B[39m \u001B[43mfn\u001B[49m\u001B[43m(\u001B[49m\u001B[38;5;241;43m*\u001B[39;49m\u001B[43margs\u001B[49m\u001B[43m,\u001B[49m\u001B[43m \u001B[49m\u001B[38;5;241;43m*\u001B[39;49m\u001B[38;5;241;43m*\u001B[39;49m\u001B[43mkwargs\u001B[49m\u001B[43m)\u001B[49m\n",
       "\u001B[1;32m   2419\u001B[0m \u001B[38;5;66;03m# The code below prevents the output from being displayed\u001B[39;00m\n",
       "\u001B[1;32m   2420\u001B[0m \u001B[38;5;66;03m# when using magics with decodator @output_can_be_silenced\u001B[39;00m\n",
       "\u001B[1;32m   2421\u001B[0m \u001B[38;5;66;03m# when the last Python token in the expression is a ';'.\u001B[39;00m\n",
       "\u001B[1;32m   2422\u001B[0m \u001B[38;5;28;01mif\u001B[39;00m \u001B[38;5;28mgetattr\u001B[39m(fn, magic\u001B[38;5;241m.\u001B[39mMAGIC_OUTPUT_CAN_BE_SILENCED, \u001B[38;5;28;01mFalse\u001B[39;00m):\n",
       "\n",
       "File \u001B[0;32m/databricks/python_shell/dbruntime/PipMagicOverrides.py:33\u001B[0m, in \u001B[0;36mPipMagicOverrides.pip\u001B[0;34m(self, line)\u001B[0m\n",
       "\u001B[1;32m     31\u001B[0m \u001B[38;5;129m@line_magic\u001B[39m\n",
       "\u001B[1;32m     32\u001B[0m \u001B[38;5;28;01mdef\u001B[39;00m \u001B[38;5;21mpip\u001B[39m(\u001B[38;5;28mself\u001B[39m, line):\n",
       "\u001B[0;32m---> 33\u001B[0m     \u001B[38;5;28;43mself\u001B[39;49m\u001B[38;5;241;43m.\u001B[39;49m\u001B[43mpipMagicHandler\u001B[49m\u001B[38;5;241;43m.\u001B[39;49m\u001B[43mrunCmd\u001B[49m\u001B[43m(\u001B[49m\u001B[38;5;124;43m\"\u001B[39;49m\u001B[38;5;124;43mpip\u001B[39;49m\u001B[38;5;124;43m\"\u001B[39;49m\u001B[43m,\u001B[49m\u001B[43m \u001B[49m\u001B[43mline\u001B[49m\u001B[43m)\u001B[49m\n",
       "\n",
       "File \u001B[0;32m/databricks/python_shell/dbruntime/PipMagicOverrides.py:59\u001B[0m, in \u001B[0;36mPipMagicHandler.runCmd\u001B[0;34m(self, magicCmd, line)\u001B[0m\n",
       "\u001B[1;32m     57\u001B[0m     \u001B[38;5;28mprint\u001B[39m(PYTHON_RESTART_WARNING)\n",
       "\u001B[1;32m     58\u001B[0m \u001B[38;5;28;01mif\u001B[39;00m parsedResult\u001B[38;5;241m.\u001B[39mrewrittenCommand():\n",
       "\u001B[0;32m---> 59\u001B[0m     \u001B[38;5;28;43mself\u001B[39;49m\u001B[38;5;241;43m.\u001B[39;49m\u001B[43mexecutePipCommand\u001B[49m\u001B[43m(\u001B[49m\u001B[43mparsedResult\u001B[49m\u001B[43m)\u001B[49m\n",
       "\u001B[1;32m     60\u001B[0m envManager\u001B[38;5;241m.\u001B[39mpostExecute(parsedResult)\n",
       "\u001B[1;32m     61\u001B[0m \u001B[38;5;28;01mif\u001B[39;00m parsedResult\u001B[38;5;241m.\u001B[39misMutation():\n",
       "\u001B[1;32m     62\u001B[0m     \u001B[38;5;66;03m# double print this output is at the end so it is more\u001B[39;00m\n",
       "\u001B[1;32m     63\u001B[0m     \u001B[38;5;66;03m# likely to be seen\u001B[39;00m\n",
       "\n",
       "File \u001B[0;32m/databricks/python_shell/dbruntime/PipMagicOverrides.py:118\u001B[0m, in \u001B[0;36mPipMagicHandler.executePipCommand\u001B[0;34m(self, result)\u001B[0m\n",
       "\u001B[1;32m    116\u001B[0m     sys\u001B[38;5;241m.\u001B[39mstdout\u001B[38;5;241m.\u001B[39mflush()\n",
       "\u001B[1;32m    117\u001B[0m     \u001B[38;5;28;01mif\u001B[39;00m returncode \u001B[38;5;241m!=\u001B[39m \u001B[38;5;241m0\u001B[39m:\n",
       "\u001B[0;32m--> 118\u001B[0m         \u001B[38;5;28;01mraise\u001B[39;00m subprocess\u001B[38;5;241m.\u001B[39mCalledProcessError(returncode, origCmd)\n",
       "\u001B[1;32m    119\u001B[0m \u001B[38;5;28;01mfinally\u001B[39;00m:\n",
       "\u001B[1;32m    120\u001B[0m     end \u001B[38;5;241m=\u001B[39m time\u001B[38;5;241m.\u001B[39mtime()\n",
       "\n",
       "\u001B[0;31mCalledProcessError\u001B[0m: Command 'pip --disable-pip-version-check show confluent-kafka' returned non-zero exit status 1."
      ]
     },
     "metadata": {
      "application/vnd.databricks.v1+output": {
       "addedWidgets": {},
       "arguments": {},
       "datasetInfos": [],
       "jupyterProps": {
        "ename": "CalledProcessError",
        "evalue": "Command 'pip --disable-pip-version-check show confluent-kafka' returned non-zero exit status 1."
       },
       "metadata": {
        "errorSummary": "<span class='ansi-red-fg'>CalledProcessError</span>: Command 'pip --disable-pip-version-check show confluent-kafka' returned non-zero exit status 1."
       },
       "removedWidgets": [],
       "sqlProps": null,
       "stackFrames": [
        "\u001B[0;31m---------------------------------------------------------------------------\u001B[0m",
        "\u001B[0;31mCalledProcessError\u001B[0m                        Traceback (most recent call last)",
        "File \u001B[0;32m<command-2359194822492251>, line 1\u001B[0m\n\u001B[0;32m----> 1\u001B[0m \u001B[43mget_ipython\u001B[49m\u001B[43m(\u001B[49m\u001B[43m)\u001B[49m\u001B[38;5;241;43m.\u001B[39;49m\u001B[43mrun_line_magic\u001B[49m\u001B[43m(\u001B[49m\u001B[38;5;124;43m'\u001B[39;49m\u001B[38;5;124;43mpip\u001B[39;49m\u001B[38;5;124;43m'\u001B[39;49m\u001B[43m,\u001B[49m\u001B[43m \u001B[49m\u001B[38;5;124;43m'\u001B[39;49m\u001B[38;5;124;43mshow confluent-kafka\u001B[39;49m\u001B[38;5;124;43m'\u001B[39;49m\u001B[43m)\u001B[49m\n",
        "File \u001B[0;32m/databricks/python/lib/python3.10/site-packages/IPython/core/interactiveshell.py:2417\u001B[0m, in \u001B[0;36mInteractiveShell.run_line_magic\u001B[0;34m(self, magic_name, line, _stack_depth)\u001B[0m\n\u001B[1;32m   2415\u001B[0m     kwargs[\u001B[38;5;124m'\u001B[39m\u001B[38;5;124mlocal_ns\u001B[39m\u001B[38;5;124m'\u001B[39m] \u001B[38;5;241m=\u001B[39m \u001B[38;5;28mself\u001B[39m\u001B[38;5;241m.\u001B[39mget_local_scope(stack_depth)\n\u001B[1;32m   2416\u001B[0m \u001B[38;5;28;01mwith\u001B[39;00m \u001B[38;5;28mself\u001B[39m\u001B[38;5;241m.\u001B[39mbuiltin_trap:\n\u001B[0;32m-> 2417\u001B[0m     result \u001B[38;5;241m=\u001B[39m \u001B[43mfn\u001B[49m\u001B[43m(\u001B[49m\u001B[38;5;241;43m*\u001B[39;49m\u001B[43margs\u001B[49m\u001B[43m,\u001B[49m\u001B[43m \u001B[49m\u001B[38;5;241;43m*\u001B[39;49m\u001B[38;5;241;43m*\u001B[39;49m\u001B[43mkwargs\u001B[49m\u001B[43m)\u001B[49m\n\u001B[1;32m   2419\u001B[0m \u001B[38;5;66;03m# The code below prevents the output from being displayed\u001B[39;00m\n\u001B[1;32m   2420\u001B[0m \u001B[38;5;66;03m# when using magics with decodator @output_can_be_silenced\u001B[39;00m\n\u001B[1;32m   2421\u001B[0m \u001B[38;5;66;03m# when the last Python token in the expression is a ';'.\u001B[39;00m\n\u001B[1;32m   2422\u001B[0m \u001B[38;5;28;01mif\u001B[39;00m \u001B[38;5;28mgetattr\u001B[39m(fn, magic\u001B[38;5;241m.\u001B[39mMAGIC_OUTPUT_CAN_BE_SILENCED, \u001B[38;5;28;01mFalse\u001B[39;00m):\n",
        "File \u001B[0;32m/databricks/python_shell/dbruntime/PipMagicOverrides.py:33\u001B[0m, in \u001B[0;36mPipMagicOverrides.pip\u001B[0;34m(self, line)\u001B[0m\n\u001B[1;32m     31\u001B[0m \u001B[38;5;129m@line_magic\u001B[39m\n\u001B[1;32m     32\u001B[0m \u001B[38;5;28;01mdef\u001B[39;00m \u001B[38;5;21mpip\u001B[39m(\u001B[38;5;28mself\u001B[39m, line):\n\u001B[0;32m---> 33\u001B[0m     \u001B[38;5;28;43mself\u001B[39;49m\u001B[38;5;241;43m.\u001B[39;49m\u001B[43mpipMagicHandler\u001B[49m\u001B[38;5;241;43m.\u001B[39;49m\u001B[43mrunCmd\u001B[49m\u001B[43m(\u001B[49m\u001B[38;5;124;43m\"\u001B[39;49m\u001B[38;5;124;43mpip\u001B[39;49m\u001B[38;5;124;43m\"\u001B[39;49m\u001B[43m,\u001B[49m\u001B[43m \u001B[49m\u001B[43mline\u001B[49m\u001B[43m)\u001B[49m\n",
        "File \u001B[0;32m/databricks/python_shell/dbruntime/PipMagicOverrides.py:59\u001B[0m, in \u001B[0;36mPipMagicHandler.runCmd\u001B[0;34m(self, magicCmd, line)\u001B[0m\n\u001B[1;32m     57\u001B[0m     \u001B[38;5;28mprint\u001B[39m(PYTHON_RESTART_WARNING)\n\u001B[1;32m     58\u001B[0m \u001B[38;5;28;01mif\u001B[39;00m parsedResult\u001B[38;5;241m.\u001B[39mrewrittenCommand():\n\u001B[0;32m---> 59\u001B[0m     \u001B[38;5;28;43mself\u001B[39;49m\u001B[38;5;241;43m.\u001B[39;49m\u001B[43mexecutePipCommand\u001B[49m\u001B[43m(\u001B[49m\u001B[43mparsedResult\u001B[49m\u001B[43m)\u001B[49m\n\u001B[1;32m     60\u001B[0m envManager\u001B[38;5;241m.\u001B[39mpostExecute(parsedResult)\n\u001B[1;32m     61\u001B[0m \u001B[38;5;28;01mif\u001B[39;00m parsedResult\u001B[38;5;241m.\u001B[39misMutation():\n\u001B[1;32m     62\u001B[0m     \u001B[38;5;66;03m# double print this output is at the end so it is more\u001B[39;00m\n\u001B[1;32m     63\u001B[0m     \u001B[38;5;66;03m# likely to be seen\u001B[39;00m\n",
        "File \u001B[0;32m/databricks/python_shell/dbruntime/PipMagicOverrides.py:118\u001B[0m, in \u001B[0;36mPipMagicHandler.executePipCommand\u001B[0;34m(self, result)\u001B[0m\n\u001B[1;32m    116\u001B[0m     sys\u001B[38;5;241m.\u001B[39mstdout\u001B[38;5;241m.\u001B[39mflush()\n\u001B[1;32m    117\u001B[0m     \u001B[38;5;28;01mif\u001B[39;00m returncode \u001B[38;5;241m!=\u001B[39m \u001B[38;5;241m0\u001B[39m:\n\u001B[0;32m--> 118\u001B[0m         \u001B[38;5;28;01mraise\u001B[39;00m subprocess\u001B[38;5;241m.\u001B[39mCalledProcessError(returncode, origCmd)\n\u001B[1;32m    119\u001B[0m \u001B[38;5;28;01mfinally\u001B[39;00m:\n\u001B[1;32m    120\u001B[0m     end \u001B[38;5;241m=\u001B[39m time\u001B[38;5;241m.\u001B[39mtime()\n",
        "\u001B[0;31mCalledProcessError\u001B[0m: Command 'pip --disable-pip-version-check show confluent-kafka' returned non-zero exit status 1."
       ],
       "type": "baseError"
      }
     },
     "output_type": "display_data"
    }
   ],
   "source": [
    "!pip show confluent-kafka"
   ]
  },
  {
   "cell_type": "code",
   "execution_count": 0,
   "metadata": {
    "application/vnd.databricks.v1+cell": {
     "cellMetadata": {
      "byteLimit": 2048000,
      "rowLimit": 10000
     },
     "inputWidgets": {},
     "nuid": "2c10b052-2d03-4b2a-be57-9f2b943dbde9",
     "showTitle": false,
     "title": ""
    }
   },
   "outputs": [
    {
     "output_type": "stream",
     "name": "stdout",
     "output_type": "stream",
     "text": [
      "\u001B[43mNote: you may need to restart the kernel using dbutils.library.restartPython() to use updated packages.\u001B[0m\nCollecting confluent-kafka\n  Downloading confluent_kafka-2.3.0-cp310-cp310-manylinux_2_17_x86_64.manylinux2014_x86_64.whl (4.0 MB)\n     ━━━━━━━━━━━━━━━━━━━━━━━━━━━━━━━━━━━━━━━━ 4.0/4.0 MB 12.6 MB/s eta 0:00:00\nInstalling collected packages: confluent-kafka\nSuccessfully installed confluent-kafka-2.3.0\n\u001B[43mNote: you may need to restart the kernel using dbutils.library.restartPython() to use updated packages.\u001B[0m\n"
     ]
    }
   ],
   "source": [
    "!pip install confluent-kafka"
   ]
  },
  {
   "cell_type": "code",
   "execution_count": 0,
   "metadata": {
    "application/vnd.databricks.v1+cell": {
     "cellMetadata": {
      "byteLimit": 2048000,
      "rowLimit": 10000
     },
     "inputWidgets": {},
     "nuid": "dc097e12-04c6-440a-ad89-6e82ce62f2e4",
     "showTitle": false,
     "title": ""
    }
   },
   "outputs": [
    {
     "output_type": "stream",
     "name": "stdout",
     "output_type": "stream",
     "text": [
      "Name: confluent-kafka\nVersion: 2.3.0\nSummary: Confluent's Python client for Apache Kafka\nHome-page: https://github.com/confluentinc/confluent-kafka-python\nAuthor: Confluent Inc\nAuthor-email: support@confluent.io\nLicense: \nLocation: /local_disk0/.ephemeral_nfs/envs/pythonEnv-cfdddf48-ba80-40cf-8d8b-619dd4c99f35/lib/python3.10/site-packages\nRequires: \nRequired-by: \n"
     ]
    }
   ],
   "source": [
    "!pip show confluent-kafka"
   ]
  },
  {
   "cell_type": "code",
   "execution_count": 0,
   "metadata": {
    "application/vnd.databricks.v1+cell": {
     "cellMetadata": {
      "byteLimit": 2048000,
      "rowLimit": 10000
     },
     "inputWidgets": {},
     "nuid": "cc6cd082-9211-4102-817a-9029646a4593",
     "showTitle": false,
     "title": ""
    }
   },
   "outputs": [],
   "source": [
    "# Testing to see if the PySpark Python API import is working\n",
    "\n",
    "from pyspark.sql import functions"
   ]
  },
  {
   "cell_type": "code",
   "execution_count": 0,
   "metadata": {
    "application/vnd.databricks.v1+cell": {
     "cellMetadata": {},
     "inputWidgets": {},
     "nuid": "edbe5e04-6ffa-4f0b-90c0-33fb6fc14155",
     "showTitle": false,
     "title": ""
    }
   },
   "outputs": [],
   "source": []
  },
  {
   "cell_type": "markdown",
   "metadata": {
    "application/vnd.databricks.v1+cell": {
     "cellMetadata": {},
     "inputWidgets": {},
     "nuid": "597ade55-273a-48de-a399-f4615c27e243",
     "showTitle": false,
     "title": ""
    }
   },
   "source": [
    "# 2. Batch Processing\n",
    "\n",
    "## 2.1 Loading Topic Data from Confluent"
   ]
  },
  {
   "cell_type": "code",
   "execution_count": 0,
   "metadata": {
    "application/vnd.databricks.v1+cell": {
     "cellMetadata": {
      "byteLimit": 2048000,
      "rowLimit": 10000
     },
     "inputWidgets": {},
     "nuid": "1cc011f1-1773-449d-9715-1ad19f051761",
     "showTitle": false,
     "title": ""
    }
   },
   "outputs": [
    {
     "output_type": "display_data",
     "data": {
      "text/html": [
       "<style scoped>\n",
       "  .table-result-container {\n",
       "    max-height: 300px;\n",
       "    overflow: auto;\n",
       "  }\n",
       "  table, th, td {\n",
       "    border: 1px solid black;\n",
       "    border-collapse: collapse;\n",
       "  }\n",
       "  th, td {\n",
       "    padding: 5px;\n",
       "  }\n",
       "  th {\n",
       "    text-align: left;\n",
       "  }\n",
       "</style><div class='table-result-container'><table class='table-result'><thead style='background-color: white'><tr><th>key</th><th>value</th><th>topic</th><th>partition</th><th>offset</th><th>timestamp</th><th>timestampType</th></tr></thead><tbody><tr><td>MQ==</td><td>eyJwbGF5ZXJJRCI6IDEsICJmaXJzdE5hbWUiOiAiR3JhZGV5IiwgImxhc3ROYW1lIjogIkRpY2siLCAiYWdlIjogMjAsICJjb3VudHJ5IjogIlVuaXRlZCBTdGF0ZXMiLCAiY29sbGVnZSI6ICJLYW5zYXMifQ==</td><td>raptors-roster</td><td>5</td><td>0</td><td>2024-03-28T21:15:50.458Z</td><td>0</td></tr><tr><td>MTY=</td><td>eyJwbGF5ZXJJRCI6ICIxNiIsICJmaXJzdE5hbWUiOiAiQ2hyaXMiLCAibGFzdE5hbWUiOiAiQm91Y2hlciIsICAiYWdlIjogMzEsICJjb3VudHJ5IjogIkNhbmFkYSIsICJjb2xsZWdlIiA6ICJPcmVnb24ifQ==</td><td>raptors-roster</td><td>5</td><td>1</td><td>2024-03-31T20:22:49.404Z</td><td>0</td></tr><tr><td>OQ==</td><td>eyJwbGF5ZXJJRCI6ICI5IiwgImZpcnN0TmFtZSI6ICJEYW5ueSIsICJsYXN0TmFtZSI6ICJHcmVlbiIsICAiYWdlIjogMzYsICJjb3VudHJ5IjogIlVuaXRlZCBTdGF0ZXMiLCAiY29sbGVnZSIgOiAiTm9ydGggQ2Fyb2xpbmE= (truncated)</td><td>raptors-roster</td><td>5</td><td>2</td><td>2024-03-31T20:22:49.404Z</td><td>0</td></tr><tr><td>Mg==</td><td>eyJwbGF5ZXJJRCI6IDIsICJmaXJzdE5hbWUiOiAiUkoiLCAibGFzdE5hbWUiOiAiQmFycmV0dCIsICJhZ2UiOiAyMywgImNvdW50cnkiOiAiQ2FuYWRhIiwgImNvbGxlZ2UiOiAiRHVrZSJ9</td><td>raptors-roster</td><td>1</td><td>0</td><td>2024-03-28T21:15:50.458Z</td><td>0</td></tr><tr><td>Mw==</td><td>eyJwbGF5ZXJJRCI6IDMsICJmaXJzdE5hbWUiOiAiU2NvdHRpZSIsICJsYXN0TmFtZSI6ICJCYXJuZXMiLCAiYWdlIjogMjIsICJjb3VudHJ5IjogIlVuaXRlZCBTdGF0ZXMiLCAiY29sbGVnZSI6ICJGbG9yaWRhIFN0YXRlIn0=</td><td>raptors-roster</td><td>1</td><td>1</td><td>2024-03-28T21:15:50.458Z</td><td>0</td></tr><tr><td>MTQ=</td><td>eyJwbGF5ZXJJRCI6ICIxNCIsICJmaXJzdE5hbWUiOiAiUGF0cmljayIsICJsYXN0TmFtZSI6ICJNY0NhdyIsICAiYWdlIjogMjgsICJjb3VudHJ5IjogIlNwYWluIiwgImNvbGxlZ2UiIDogIlVuaXZlcnNpdHkgb2YgTmV2YWQ= (truncated)</td><td>raptors-roster</td><td>1</td><td>2</td><td>2024-03-31T20:22:49.405Z</td><td>0</td></tr><tr><td>MTM=</td><td>eyJwbGF5ZXJJRCI6ICIxMyIsICJmaXJzdE5hbWUiOiAiRGVNYXIiLCAibGFzdE5hbWUiOiAiRGVSb3phbiIsICAiYWdlIjogMzQsICJjb3VudHJ5IjogIlVuaXRlZCBTdGF0ZXMiLCAiY29sbGVnZSIgOiAiVVNDIn0=</td><td>raptors-roster</td><td>1</td><td>3</td><td>2024-03-31T20:22:49.403Z</td><td>0</td></tr><tr><td>MTk=</td><td>eyJwbGF5ZXJJRCI6IDE5LCAiZmlyc3ROYW1lIjogIkNocmlzIiwgImxhc3ROYW1lIjogIkJvc2giLCAiYWdlIjogNDAsICJjb3VudHJ5IjogIlVuaXRlZCBTdGF0ZXMiLCAiY29sbGVnZSI6ICJHZW9yZ2lhIFRlY2gifQ==</td><td>raptors-roster</td><td>1</td><td>4</td><td>2024-03-31T20:36:55.021Z</td><td>0</td></tr><tr><td>NA==</td><td>eyJwbGF5ZXJJRCI6IDQsICJmaXJzdE5hbWUiOiAiSW1tYW51ZWwiLCAibGFzdE5hbWUiOiAiUXVpY2tsZXkiLCAiYWdlIjogMjQsICJjb3VudHJ5IjogIlVuaXRlZCBTdGF0ZXMiLCAiY29sbGVnZSI6ICJLZW50dWNreSJ9</td><td>raptors-roster</td><td>4</td><td>0</td><td>2024-03-28T21:15:50.458Z</td><td>0</td></tr><tr><td>NQ==</td><td>eyJwbGF5ZXJJRCI6IDUsICJmaXJzdE5hbWUiOiAiRGVubmlzIiwgImxhc3ROYW1lIjogIlNjaHJcdTAwZjZkZXIiLCAiYWdlIjogMzAsICJjb3VudHJ5IjogIkdlcm1hbnkiLCAiY29sbGVnZSI6ICJQaGFudG9tcyBCcmF1bnM= (truncated)</td><td>raptors-roster</td><td>4</td><td>1</td><td>2024-03-28T21:15:50.458Z</td><td>0</td></tr><tr><td>Ng==</td><td>eyJwbGF5ZXJJRCI6ICI2IiwgImZpcnN0TmFtZSI6ICJGcmVkIiwgImxhc3ROYW1lIjogIlZhblZsZWV0IiwgICJhZ2UiOiAzMCwgImNvdW50cnkiOiAiVW5pdGVkIFN0YXRlcyIsICJjb2xsZWdlIiA6ICJXaWNoaXRhIFN0YXQ= (truncated)</td><td>raptors-roster</td><td>4</td><td>2</td><td>2024-03-28T21:37:51.441Z</td><td>0</td></tr><tr><td>MTA=</td><td>eyJwbGF5ZXJJRCI6ICIxMCIsICJmaXJzdE5hbWUiOiAiSmVyZW15IiwgImxhc3ROYW1lIjogIkxpbiIsICAiYWdlIjogMzUsICJjb3VudHJ5IjogIlVuaXRlZCBTdGF0ZXMiLCAiY29sbGVnZSIgOiAiSGFydmFyZCJ9</td><td>raptors-roster</td><td>4</td><td>3</td><td>2024-03-31T20:22:49.405Z</td><td>0</td></tr><tr><td>MTI=</td><td>eyJwbGF5ZXJJRCI6ICIxMiIsICJmaXJzdE5hbWUiOiAiS3lsZSIsICJsYXN0TmFtZSI6ICJMb3dyeSIsICAiYWdlIjogMzgsICJjb3VudHJ5IjogIlVuaXRlZCBTdGF0ZXMiLCAiY29sbGVnZSIgOiAiVmlsbGFub3ZhIn0=</td><td>raptors-roster</td><td>4</td><td>4</td><td>2024-03-31T20:22:49.405Z</td><td>0</td></tr><tr><td>MjE=</td><td>eyJwbGF5ZXJJRCI6IDIxLCAiZmlyc3ROYW1lIjogIlBhc2NhbCIsICJsYXN0TmFtZSI6ICJTaWFrYW0iLCAiYWdlIjogMjksICJjb3VudHJ5IjogIkNhbWVyb29uIiwgImNvbGxlZ2UiOiAiTmV3IE1leGljbyBTdGF0ZSJ9</td><td>raptors-roster</td><td>4</td><td>5</td><td>2024-03-31T20:36:55.021Z</td><td>0</td></tr><tr><td>OA==</td><td>eyJwbGF5ZXJJRCI6ICI4IiwgImZpcnN0TmFtZSI6ICJLYXdoaSIsICJsYXN0TmFtZSI6ICJMZW9uYXJkIiwgICJhZ2UiOiAzMiwgImNvdW50cnkiOiAiVW5pdGVkIFN0YXRlcyIsICJjb2xsZWdlIiA6ICJTYW4gRGllZ28gU3Q= (truncated)</td><td>raptors-roster</td><td>3</td><td>0</td><td>2024-03-28T21:37:51.441Z</td><td>0</td></tr><tr><td>Nw==</td><td>eyJwbGF5ZXJJRCI6ICI3IiwgImZpcnN0TmFtZSI6ICJWaW5jZSIsICJsYXN0TmFtZSI6ICJDYXJ0ZXIiLCAgImFnZSI6IDQ3LCAiY291bnRyeSI6ICJVbml0ZWQgU3RhdGVzIiwgImNvbGxlZ2UiIDogIk5vcnRoIENhcm9saW4= (truncated)</td><td>raptors-roster</td><td>3</td><td>1</td><td>2024-03-28T21:37:51.44Z</td><td>0</td></tr><tr><td>MTg=</td><td>eyJwbGF5ZXJJRCI6IDE4LCAiZmlyc3ROYW1lIjogIkpvbmFzIiwgImxhc3ROYW1lIjogIlZhbGFuY2l1bmFzIiwgImFnZSI6IDMxLCAiY291bnRyeSI6ICJMaXRodWFuaWEiLCAiY29sbGVnZSI6ICJQZXJsYXMgVmlsbml1cyI= (truncated)</td><td>raptors-roster</td><td>3</td><td>2</td><td>2024-03-31T20:36:55.021Z</td><td>0</td></tr><tr><td>MjI=</td><td>eyJwbGF5ZXJJRCI6IDIyLCAiZmlyc3ROYW1lIjogIkpha3ViIiwgImxhc3ROYW1lIjogIlBvbHRsIiwgImFnZSI6IDI4LCAiY291bnRyeSI6ICJBdXN0cmlhIiwgImNvbGxlZ2UiOiAiVXRhaCJ9</td><td>raptors-roster</td><td>2</td><td>0</td><td>2024-03-31T20:36:55.021Z</td><td>0</td></tr><tr><td>MTU=</td><td>eyJwbGF5ZXJJRCI6ICIxNSIsICJmaXJzdE5hbWUiOiAiWXV0YSIsICJsYXN0TmFtZSI6ICJXYXRhbmFiZSIsICAiYWdlIjogMjksICJjb3VudHJ5IjogIkphcGFuIiwgImNvbGxlZ2UiIDogIkdlb3JnZSBXYXNoaW5ndG9uIn0=</td><td>raptors-roster</td><td>0</td><td>0</td><td>2024-03-31T20:22:49.405Z</td><td>0</td></tr><tr><td>MTE=</td><td>eyJwbGF5ZXJJRCI6ICIxMSIsICJmaXJzdE5hbWUiOiAiU2VyZ2UiLCAibGFzdE5hbWUiOiAiSWJha2EiLCAgImFnZSI6IDMyLCAiY291bnRyeSI6ICJTcGFpbiIsICJjb2xsZWdlIiA6ICJOb3QgQXBwbGljYWJsZSJ9</td><td>raptors-roster</td><td>0</td><td>1</td><td>2024-03-31T20:22:49.404Z</td><td>0</td></tr><tr><td>MTc=</td><td>eyJwbGF5ZXJJRCI6ICIxNyIsICJmaXJzdE5hbWUiOiAiT0ciLCAibGFzdE5hbWUiOiAiQW51bm9ieSIsICAiYWdlIjogMjYsICJjb3VudHJ5IjogIlVuaXRlZCBLaW5nZG9tIiwgImNvbGxlZ2UiIDogIkluZGlhbmEifQ==</td><td>raptors-roster</td><td>0</td><td>2</td><td>2024-03-31T20:22:49.457Z</td><td>0</td></tr><tr><td>MjA=</td><td>eyJwbGF5ZXJJRCI6IDIwLCAiZmlyc3ROYW1lIjogIlJ1ZHkiLCAibGFzdE5hbWUiOiAiR2F5IiwgImFnZSI6IDM3LCAiY291bnRyeSI6ICJVbml0ZWQgU3RhdGVzIiwgImNvbGxlZ2UiOiAiQ29ubmVjdGljdXQifQ==</td><td>raptors-roster</td><td>0</td><td>3</td><td>2024-03-31T20:36:55.021Z</td><td>0</td></tr></tbody></table></div>"
      ]
     },
     "metadata": {
      "application/vnd.databricks.v1+output": {
       "addedWidgets": {},
       "aggData": [],
       "aggError": "",
       "aggOverflow": false,
       "aggSchema": [],
       "aggSeriesLimitReached": false,
       "aggType": "",
       "arguments": {},
       "columnCustomDisplayInfos": {},
       "data": [
        [
         "MQ==",
         "eyJwbGF5ZXJJRCI6IDEsICJmaXJzdE5hbWUiOiAiR3JhZGV5IiwgImxhc3ROYW1lIjogIkRpY2siLCAiYWdlIjogMjAsICJjb3VudHJ5IjogIlVuaXRlZCBTdGF0ZXMiLCAiY29sbGVnZSI6ICJLYW5zYXMifQ==",
         "raptors-roster",
         5,
         0,
         "2024-03-28T21:15:50.458Z",
         0
        ],
        [
         "MTY=",
         "eyJwbGF5ZXJJRCI6ICIxNiIsICJmaXJzdE5hbWUiOiAiQ2hyaXMiLCAibGFzdE5hbWUiOiAiQm91Y2hlciIsICAiYWdlIjogMzEsICJjb3VudHJ5IjogIkNhbmFkYSIsICJjb2xsZWdlIiA6ICJPcmVnb24ifQ==",
         "raptors-roster",
         5,
         1,
         "2024-03-31T20:22:49.404Z",
         0
        ],
        [
         "OQ==",
         "eyJwbGF5ZXJJRCI6ICI5IiwgImZpcnN0TmFtZSI6ICJEYW5ueSIsICJsYXN0TmFtZSI6ICJHcmVlbiIsICAiYWdlIjogMzYsICJjb3VudHJ5IjogIlVuaXRlZCBTdGF0ZXMiLCAiY29sbGVnZSIgOiAiTm9ydGggQ2Fyb2xpbmE= (truncated)",
         "raptors-roster",
         5,
         2,
         "2024-03-31T20:22:49.404Z",
         0
        ],
        [
         "Mg==",
         "eyJwbGF5ZXJJRCI6IDIsICJmaXJzdE5hbWUiOiAiUkoiLCAibGFzdE5hbWUiOiAiQmFycmV0dCIsICJhZ2UiOiAyMywgImNvdW50cnkiOiAiQ2FuYWRhIiwgImNvbGxlZ2UiOiAiRHVrZSJ9",
         "raptors-roster",
         1,
         0,
         "2024-03-28T21:15:50.458Z",
         0
        ],
        [
         "Mw==",
         "eyJwbGF5ZXJJRCI6IDMsICJmaXJzdE5hbWUiOiAiU2NvdHRpZSIsICJsYXN0TmFtZSI6ICJCYXJuZXMiLCAiYWdlIjogMjIsICJjb3VudHJ5IjogIlVuaXRlZCBTdGF0ZXMiLCAiY29sbGVnZSI6ICJGbG9yaWRhIFN0YXRlIn0=",
         "raptors-roster",
         1,
         1,
         "2024-03-28T21:15:50.458Z",
         0
        ],
        [
         "MTQ=",
         "eyJwbGF5ZXJJRCI6ICIxNCIsICJmaXJzdE5hbWUiOiAiUGF0cmljayIsICJsYXN0TmFtZSI6ICJNY0NhdyIsICAiYWdlIjogMjgsICJjb3VudHJ5IjogIlNwYWluIiwgImNvbGxlZ2UiIDogIlVuaXZlcnNpdHkgb2YgTmV2YWQ= (truncated)",
         "raptors-roster",
         1,
         2,
         "2024-03-31T20:22:49.405Z",
         0
        ],
        [
         "MTM=",
         "eyJwbGF5ZXJJRCI6ICIxMyIsICJmaXJzdE5hbWUiOiAiRGVNYXIiLCAibGFzdE5hbWUiOiAiRGVSb3phbiIsICAiYWdlIjogMzQsICJjb3VudHJ5IjogIlVuaXRlZCBTdGF0ZXMiLCAiY29sbGVnZSIgOiAiVVNDIn0=",
         "raptors-roster",
         1,
         3,
         "2024-03-31T20:22:49.403Z",
         0
        ],
        [
         "MTk=",
         "eyJwbGF5ZXJJRCI6IDE5LCAiZmlyc3ROYW1lIjogIkNocmlzIiwgImxhc3ROYW1lIjogIkJvc2giLCAiYWdlIjogNDAsICJjb3VudHJ5IjogIlVuaXRlZCBTdGF0ZXMiLCAiY29sbGVnZSI6ICJHZW9yZ2lhIFRlY2gifQ==",
         "raptors-roster",
         1,
         4,
         "2024-03-31T20:36:55.021Z",
         0
        ],
        [
         "NA==",
         "eyJwbGF5ZXJJRCI6IDQsICJmaXJzdE5hbWUiOiAiSW1tYW51ZWwiLCAibGFzdE5hbWUiOiAiUXVpY2tsZXkiLCAiYWdlIjogMjQsICJjb3VudHJ5IjogIlVuaXRlZCBTdGF0ZXMiLCAiY29sbGVnZSI6ICJLZW50dWNreSJ9",
         "raptors-roster",
         4,
         0,
         "2024-03-28T21:15:50.458Z",
         0
        ],
        [
         "NQ==",
         "eyJwbGF5ZXJJRCI6IDUsICJmaXJzdE5hbWUiOiAiRGVubmlzIiwgImxhc3ROYW1lIjogIlNjaHJcdTAwZjZkZXIiLCAiYWdlIjogMzAsICJjb3VudHJ5IjogIkdlcm1hbnkiLCAiY29sbGVnZSI6ICJQaGFudG9tcyBCcmF1bnM= (truncated)",
         "raptors-roster",
         4,
         1,
         "2024-03-28T21:15:50.458Z",
         0
        ],
        [
         "Ng==",
         "eyJwbGF5ZXJJRCI6ICI2IiwgImZpcnN0TmFtZSI6ICJGcmVkIiwgImxhc3ROYW1lIjogIlZhblZsZWV0IiwgICJhZ2UiOiAzMCwgImNvdW50cnkiOiAiVW5pdGVkIFN0YXRlcyIsICJjb2xsZWdlIiA6ICJXaWNoaXRhIFN0YXQ= (truncated)",
         "raptors-roster",
         4,
         2,
         "2024-03-28T21:37:51.441Z",
         0
        ],
        [
         "MTA=",
         "eyJwbGF5ZXJJRCI6ICIxMCIsICJmaXJzdE5hbWUiOiAiSmVyZW15IiwgImxhc3ROYW1lIjogIkxpbiIsICAiYWdlIjogMzUsICJjb3VudHJ5IjogIlVuaXRlZCBTdGF0ZXMiLCAiY29sbGVnZSIgOiAiSGFydmFyZCJ9",
         "raptors-roster",
         4,
         3,
         "2024-03-31T20:22:49.405Z",
         0
        ],
        [
         "MTI=",
         "eyJwbGF5ZXJJRCI6ICIxMiIsICJmaXJzdE5hbWUiOiAiS3lsZSIsICJsYXN0TmFtZSI6ICJMb3dyeSIsICAiYWdlIjogMzgsICJjb3VudHJ5IjogIlVuaXRlZCBTdGF0ZXMiLCAiY29sbGVnZSIgOiAiVmlsbGFub3ZhIn0=",
         "raptors-roster",
         4,
         4,
         "2024-03-31T20:22:49.405Z",
         0
        ],
        [
         "MjE=",
         "eyJwbGF5ZXJJRCI6IDIxLCAiZmlyc3ROYW1lIjogIlBhc2NhbCIsICJsYXN0TmFtZSI6ICJTaWFrYW0iLCAiYWdlIjogMjksICJjb3VudHJ5IjogIkNhbWVyb29uIiwgImNvbGxlZ2UiOiAiTmV3IE1leGljbyBTdGF0ZSJ9",
         "raptors-roster",
         4,
         5,
         "2024-03-31T20:36:55.021Z",
         0
        ],
        [
         "OA==",
         "eyJwbGF5ZXJJRCI6ICI4IiwgImZpcnN0TmFtZSI6ICJLYXdoaSIsICJsYXN0TmFtZSI6ICJMZW9uYXJkIiwgICJhZ2UiOiAzMiwgImNvdW50cnkiOiAiVW5pdGVkIFN0YXRlcyIsICJjb2xsZWdlIiA6ICJTYW4gRGllZ28gU3Q= (truncated)",
         "raptors-roster",
         3,
         0,
         "2024-03-28T21:37:51.441Z",
         0
        ],
        [
         "Nw==",
         "eyJwbGF5ZXJJRCI6ICI3IiwgImZpcnN0TmFtZSI6ICJWaW5jZSIsICJsYXN0TmFtZSI6ICJDYXJ0ZXIiLCAgImFnZSI6IDQ3LCAiY291bnRyeSI6ICJVbml0ZWQgU3RhdGVzIiwgImNvbGxlZ2UiIDogIk5vcnRoIENhcm9saW4= (truncated)",
         "raptors-roster",
         3,
         1,
         "2024-03-28T21:37:51.44Z",
         0
        ],
        [
         "MTg=",
         "eyJwbGF5ZXJJRCI6IDE4LCAiZmlyc3ROYW1lIjogIkpvbmFzIiwgImxhc3ROYW1lIjogIlZhbGFuY2l1bmFzIiwgImFnZSI6IDMxLCAiY291bnRyeSI6ICJMaXRodWFuaWEiLCAiY29sbGVnZSI6ICJQZXJsYXMgVmlsbml1cyI= (truncated)",
         "raptors-roster",
         3,
         2,
         "2024-03-31T20:36:55.021Z",
         0
        ],
        [
         "MjI=",
         "eyJwbGF5ZXJJRCI6IDIyLCAiZmlyc3ROYW1lIjogIkpha3ViIiwgImxhc3ROYW1lIjogIlBvbHRsIiwgImFnZSI6IDI4LCAiY291bnRyeSI6ICJBdXN0cmlhIiwgImNvbGxlZ2UiOiAiVXRhaCJ9",
         "raptors-roster",
         2,
         0,
         "2024-03-31T20:36:55.021Z",
         0
        ],
        [
         "MTU=",
         "eyJwbGF5ZXJJRCI6ICIxNSIsICJmaXJzdE5hbWUiOiAiWXV0YSIsICJsYXN0TmFtZSI6ICJXYXRhbmFiZSIsICAiYWdlIjogMjksICJjb3VudHJ5IjogIkphcGFuIiwgImNvbGxlZ2UiIDogIkdlb3JnZSBXYXNoaW5ndG9uIn0=",
         "raptors-roster",
         0,
         0,
         "2024-03-31T20:22:49.405Z",
         0
        ],
        [
         "MTE=",
         "eyJwbGF5ZXJJRCI6ICIxMSIsICJmaXJzdE5hbWUiOiAiU2VyZ2UiLCAibGFzdE5hbWUiOiAiSWJha2EiLCAgImFnZSI6IDMyLCAiY291bnRyeSI6ICJTcGFpbiIsICJjb2xsZWdlIiA6ICJOb3QgQXBwbGljYWJsZSJ9",
         "raptors-roster",
         0,
         1,
         "2024-03-31T20:22:49.404Z",
         0
        ],
        [
         "MTc=",
         "eyJwbGF5ZXJJRCI6ICIxNyIsICJmaXJzdE5hbWUiOiAiT0ciLCAibGFzdE5hbWUiOiAiQW51bm9ieSIsICAiYWdlIjogMjYsICJjb3VudHJ5IjogIlVuaXRlZCBLaW5nZG9tIiwgImNvbGxlZ2UiIDogIkluZGlhbmEifQ==",
         "raptors-roster",
         0,
         2,
         "2024-03-31T20:22:49.457Z",
         0
        ],
        [
         "MjA=",
         "eyJwbGF5ZXJJRCI6IDIwLCAiZmlyc3ROYW1lIjogIlJ1ZHkiLCAibGFzdE5hbWUiOiAiR2F5IiwgImFnZSI6IDM3LCAiY291bnRyeSI6ICJVbml0ZWQgU3RhdGVzIiwgImNvbGxlZ2UiOiAiQ29ubmVjdGljdXQifQ==",
         "raptors-roster",
         0,
         3,
         "2024-03-31T20:36:55.021Z",
         0
        ]
       ],
       "datasetInfos": [],
       "dbfsResultPath": null,
       "isJsonSchema": true,
       "metadata": {},
       "overflow": false,
       "plotOptions": {
        "customPlotOptions": {},
        "displayType": "table",
        "pivotAggregation": null,
        "pivotColumns": null,
        "xColumns": null,
        "yColumns": null
       },
       "removedWidgets": [],
       "schema": [
        {
         "metadata": "{}",
         "name": "key",
         "type": "\"binary\""
        },
        {
         "metadata": "{}",
         "name": "value",
         "type": "\"binary\""
        },
        {
         "metadata": "{}",
         "name": "topic",
         "type": "\"string\""
        },
        {
         "metadata": "{}",
         "name": "partition",
         "type": "\"integer\""
        },
        {
         "metadata": "{}",
         "name": "offset",
         "type": "\"long\""
        },
        {
         "metadata": "{}",
         "name": "timestamp",
         "type": "\"timestamp\""
        },
        {
         "metadata": "{}",
         "name": "timestampType",
         "type": "\"integer\""
        }
       ],
       "type": "table"
      }
     },
     "output_type": "display_data"
    }
   ],
   "source": [
    "from pyspark.sql import functions\n",
    "\n",
    "topic_name = \"raptors-roster\"\n",
    "# bootstrap.servers = \"pkc-419q3.us-east4.gcp.confluent.cloud:9092\"\n",
    "\n",
    "df_kafka = spark.read.format(\"kafka\")\\\n",
    "    .option(\"kafka.bootstrap.servers\", \"pkc-419q3.us-east4.gcp.confluent.cloud:9092\")\\\n",
    "    .option(\"subscribe\", topic_name)\\\n",
    "    .option(\"kafka.security.protocol\", \"SASL_SSL\")\\\n",
    "    .option(\"kafka.sasl.mechanism\", \"PLAIN\")\\\n",
    "    .option(\"kafka.sasl.jaas.config\", \"kafkashaded.org.apache.kafka.common.security.plain.PlainLoginModule required username=\\\"MWUF36Y4OHVSNJLM\\\" password=\\\"rCTS5eZ939c3iox5iT69ePoJgCz92/ZxJRTTF/jbdcZAVMxIAcmFw9g/eO0m42os\\\";\")\\\n",
    "    .load()\n",
    "\n",
    "display(df_kafka)"
   ]
  },
  {
   "cell_type": "markdown",
   "metadata": {
    "application/vnd.databricks.v1+cell": {
     "cellMetadata": {},
     "inputWidgets": {},
     "nuid": "64449e9c-00ee-4e85-81b4-fffda97f918d",
     "showTitle": false,
     "title": ""
    }
   },
   "source": [
    "## 2.2 Write a Kafka Sink for Batch Queries"
   ]
  },
  {
   "cell_type": "markdown",
   "metadata": {
    "application/vnd.databricks.v1+cell": {
     "cellMetadata": {},
     "inputWidgets": {},
     "nuid": "cd225298-157e-425f-a902-4133c08a8288",
     "showTitle": false,
     "title": ""
    }
   },
   "source": [
    "## 2.2.1 Creating Sample Data"
   ]
  },
  {
   "cell_type": "code",
   "execution_count": 0,
   "metadata": {
    "application/vnd.databricks.v1+cell": {
     "cellMetadata": {
      "byteLimit": 2048000,
      "rowLimit": 10000
     },
     "inputWidgets": {},
     "nuid": "a5f86fba-e312-4b89-a0d1-4a332ee06598",
     "showTitle": false,
     "title": ""
    }
   },
   "outputs": [],
   "source": [
    "# import pyspark class Row from module sql\n",
    "from pyspark.sql import *"
   ]
  },
  {
   "cell_type": "code",
   "execution_count": 0,
   "metadata": {
    "application/vnd.databricks.v1+cell": {
     "cellMetadata": {
      "byteLimit": 2048000,
      "rowLimit": 10000
     },
     "inputWidgets": {},
     "nuid": "731b34eb-87aa-4449-bee2-76d65487fd71",
     "showTitle": false,
     "title": ""
    }
   },
   "outputs": [
    {
     "output_type": "stream",
     "name": "stdout",
     "output_type": "stream",
     "text": [
      "Row(key='9', value='{\"playerID\": \"9\", \"firstName\": \"Danny\", \"lastName\": \"Green\",  \"age\": 36, \"country\": \"United States\", \"college\" : \"North Carolina\"}', topic='raptors-roster')\n"
     ]
    }
   ],
   "source": [
    "# Create the sample data\n",
    "sample_data = Row(\"key\", \"value\", \"topic\")\n",
    "sample1 = sample_data('9', '{\"playerID\": \"9\", \"firstName\": \"Danny\", \"lastName\": \"Green\",  \"age\": 36, \"country\": \"United States\", \"college\" : \"North Carolina\"}', \"raptors-roster\")\n",
    "sample2 = sample_data('10', '{\"playerID\": \"10\", \"firstName\": \"Jeremy\", \"lastName\": \"Lin\",  \"age\": 35, \"country\": \"United States\", \"college\" : \"Harvard\"}', \"raptors-roster\")\n",
    "sample3 = sample_data('11', '{\"playerID\": \"11\", \"firstName\": \"Serge\", \"lastName\": \"Ibaka\",  \"age\": 32, \"country\": \"Spain\", \"college\" : \"Not Applicable\"}', \"raptors-roster\")\n",
    "sample4 = sample_data('12', '{\"playerID\": \"12\", \"firstName\": \"Kyle\", \"lastName\": \"Lowry\",  \"age\": 38, \"country\": \"United States\", \"college\" : \"Villanova\"}', \"raptors-roster\")\n",
    "sample5 = sample_data('13', '{\"playerID\": \"13\", \"firstName\": \"DeMar\", \"lastName\": \"DeRozan\",  \"age\": 34, \"country\": \"United States\", \"college\" : \"USC\"}', \"raptors-roster\")\n",
    "sample6 = sample_data('14', '{\"playerID\": \"14\", \"firstName\": \"Patrick\", \"lastName\": \"McCaw\",  \"age\": 28, \"country\": \"Spain\", \"college\" : \"University of Nevada\"}', \"raptors-roster\")\n",
    "sample7 = sample_data('15', '{\"playerID\": \"15\", \"firstName\": \"Yuta\", \"lastName\": \"Watanabe\",  \"age\": 29, \"country\": \"Japan\", \"college\" : \"George Washington\"}', \"raptors-roster\")\n",
    "sample8 = sample_data('16', '{\"playerID\": \"16\", \"firstName\": \"Chris\", \"lastName\": \"Boucher\",  \"age\": 31, \"country\": \"Canada\", \"college\" : \"Oregon\"}', \"raptors-roster\")\n",
    "sample9 = sample_data('17', '{\"playerID\": \"17\", \"firstName\": \"OG\", \"lastName\": \"Anunoby\",  \"age\": 26, \"country\": \"United Kingdom\", \"college\" : \"Indiana\"}', \"raptors-roster\")\n",
    "\n",
    "print(sample1)"
   ]
  },
  {
   "cell_type": "markdown",
   "metadata": {
    "application/vnd.databricks.v1+cell": {
     "cellMetadata": {},
     "inputWidgets": {},
     "nuid": "815875de-2a50-4d67-be96-3d8edc853777",
     "showTitle": false,
     "title": ""
    }
   },
   "source": [
    "## 2.2.2 Creating a DataFrame from Sample Data"
   ]
  },
  {
   "cell_type": "code",
   "execution_count": 0,
   "metadata": {
    "application/vnd.databricks.v1+cell": {
     "cellMetadata": {
      "byteLimit": 2048000,
      "rowLimit": 10000
     },
     "inputWidgets": {},
     "nuid": "5815f7a8-1a4a-48af-8dc7-f20c1ef7c844",
     "showTitle": false,
     "title": ""
    }
   },
   "outputs": [],
   "source": [
    "df = spark.createDataFrame([sample1, sample2, sample3, sample4, sample5, sample6, sample7, sample8, sample9])"
   ]
  },
  {
   "cell_type": "code",
   "execution_count": 0,
   "metadata": {
    "application/vnd.databricks.v1+cell": {
     "cellMetadata": {
      "byteLimit": 2048000,
      "rowLimit": 10000
     },
     "inputWidgets": {},
     "nuid": "c1c76a7d-a67c-4675-9a4f-14575b84e054",
     "showTitle": false,
     "title": ""
    }
   },
   "outputs": [
    {
     "output_type": "stream",
     "name": "stdout",
     "output_type": "stream",
     "text": [
      "+---+--------------------+--------------+\n|key|               value|         topic|\n+---+--------------------+--------------+\n|  9|{\"playerID\": \"9\",...|raptors-roster|\n| 10|{\"playerID\": \"10\"...|raptors-roster|\n| 11|{\"playerID\": \"11\"...|raptors-roster|\n| 12|{\"playerID\": \"12\"...|raptors-roster|\n| 13|{\"playerID\": \"13\"...|raptors-roster|\n| 14|{\"playerID\": \"14\"...|raptors-roster|\n| 15|{\"playerID\": \"15\"...|raptors-roster|\n| 16|{\"playerID\": \"16\"...|raptors-roster|\n| 17|{\"playerID\": \"17\"...|raptors-roster|\n+---+--------------------+--------------+\n\n"
     ]
    }
   ],
   "source": [
    "df.show()"
   ]
  },
  {
   "cell_type": "code",
   "execution_count": 0,
   "metadata": {
    "application/vnd.databricks.v1+cell": {
     "cellMetadata": {
      "byteLimit": 2048000,
      "rowLimit": 10000
     },
     "inputWidgets": {},
     "nuid": "ac0e5fdc-a875-46e8-998f-1da383516ba8",
     "showTitle": false,
     "title": ""
    }
   },
   "outputs": [
    {
     "output_type": "display_data",
     "data": {
      "text/html": [
       "<style scoped>\n",
       "  .table-result-container {\n",
       "    max-height: 300px;\n",
       "    overflow: auto;\n",
       "  }\n",
       "  table, th, td {\n",
       "    border: 1px solid black;\n",
       "    border-collapse: collapse;\n",
       "  }\n",
       "  th, td {\n",
       "    padding: 5px;\n",
       "  }\n",
       "  th {\n",
       "    text-align: left;\n",
       "  }\n",
       "</style><div class='table-result-container'><table class='table-result'><thead style='background-color: white'><tr><th>key</th><th>value</th><th>topic</th></tr></thead><tbody><tr><td>9</td><td>{\"playerID\": \"9\", \"firstName\": \"Danny\", \"lastName\": \"Green\",  \"age\": 36, \"country\": \"United States\", \"college\" : \"North Carolina\"}</td><td>raptors-roster</td></tr><tr><td>10</td><td>{\"playerID\": \"10\", \"firstName\": \"Jeremy\", \"lastName\": \"Lin\",  \"age\": 35, \"country\": \"United States\", \"college\" : \"Harvard\"}</td><td>raptors-roster</td></tr><tr><td>11</td><td>{\"playerID\": \"11\", \"firstName\": \"Serge\", \"lastName\": \"Ibaka\",  \"age\": 32, \"country\": \"Spain\", \"college\" : \"Not Applicable\"}</td><td>raptors-roster</td></tr><tr><td>12</td><td>{\"playerID\": \"12\", \"firstName\": \"Kyle\", \"lastName\": \"Lowry\",  \"age\": 38, \"country\": \"United States\", \"college\" : \"Villanova\"}</td><td>raptors-roster</td></tr><tr><td>13</td><td>{\"playerID\": \"13\", \"firstName\": \"DeMar\", \"lastName\": \"DeRozan\",  \"age\": 34, \"country\": \"United States\", \"college\" : \"USC\"}</td><td>raptors-roster</td></tr><tr><td>14</td><td>{\"playerID\": \"14\", \"firstName\": \"Patrick\", \"lastName\": \"McCaw\",  \"age\": 28, \"country\": \"Spain\", \"college\" : \"University of Nevada\"}</td><td>raptors-roster</td></tr><tr><td>15</td><td>{\"playerID\": \"15\", \"firstName\": \"Yuta\", \"lastName\": \"Watanabe\",  \"age\": 29, \"country\": \"Japan\", \"college\" : \"George Washington\"}</td><td>raptors-roster</td></tr><tr><td>16</td><td>{\"playerID\": \"16\", \"firstName\": \"Chris\", \"lastName\": \"Boucher\",  \"age\": 31, \"country\": \"Canada\", \"college\" : \"Oregon\"}</td><td>raptors-roster</td></tr><tr><td>17</td><td>{\"playerID\": \"17\", \"firstName\": \"OG\", \"lastName\": \"Anunoby\",  \"age\": 26, \"country\": \"United Kingdom\", \"college\" : \"Indiana\"}</td><td>raptors-roster</td></tr></tbody></table></div>"
      ]
     },
     "metadata": {
      "application/vnd.databricks.v1+output": {
       "addedWidgets": {},
       "aggData": [],
       "aggError": "",
       "aggOverflow": false,
       "aggSchema": [],
       "aggSeriesLimitReached": false,
       "aggType": "",
       "arguments": {},
       "columnCustomDisplayInfos": {},
       "data": [
        [
         "9",
         "{\"playerID\": \"9\", \"firstName\": \"Danny\", \"lastName\": \"Green\",  \"age\": 36, \"country\": \"United States\", \"college\" : \"North Carolina\"}",
         "raptors-roster"
        ],
        [
         "10",
         "{\"playerID\": \"10\", \"firstName\": \"Jeremy\", \"lastName\": \"Lin\",  \"age\": 35, \"country\": \"United States\", \"college\" : \"Harvard\"}",
         "raptors-roster"
        ],
        [
         "11",
         "{\"playerID\": \"11\", \"firstName\": \"Serge\", \"lastName\": \"Ibaka\",  \"age\": 32, \"country\": \"Spain\", \"college\" : \"Not Applicable\"}",
         "raptors-roster"
        ],
        [
         "12",
         "{\"playerID\": \"12\", \"firstName\": \"Kyle\", \"lastName\": \"Lowry\",  \"age\": 38, \"country\": \"United States\", \"college\" : \"Villanova\"}",
         "raptors-roster"
        ],
        [
         "13",
         "{\"playerID\": \"13\", \"firstName\": \"DeMar\", \"lastName\": \"DeRozan\",  \"age\": 34, \"country\": \"United States\", \"college\" : \"USC\"}",
         "raptors-roster"
        ],
        [
         "14",
         "{\"playerID\": \"14\", \"firstName\": \"Patrick\", \"lastName\": \"McCaw\",  \"age\": 28, \"country\": \"Spain\", \"college\" : \"University of Nevada\"}",
         "raptors-roster"
        ],
        [
         "15",
         "{\"playerID\": \"15\", \"firstName\": \"Yuta\", \"lastName\": \"Watanabe\",  \"age\": 29, \"country\": \"Japan\", \"college\" : \"George Washington\"}",
         "raptors-roster"
        ],
        [
         "16",
         "{\"playerID\": \"16\", \"firstName\": \"Chris\", \"lastName\": \"Boucher\",  \"age\": 31, \"country\": \"Canada\", \"college\" : \"Oregon\"}",
         "raptors-roster"
        ],
        [
         "17",
         "{\"playerID\": \"17\", \"firstName\": \"OG\", \"lastName\": \"Anunoby\",  \"age\": 26, \"country\": \"United Kingdom\", \"college\" : \"Indiana\"}",
         "raptors-roster"
        ]
       ],
       "datasetInfos": [],
       "dbfsResultPath": null,
       "isJsonSchema": true,
       "metadata": {},
       "overflow": false,
       "plotOptions": {
        "customPlotOptions": {},
        "displayType": "table",
        "pivotAggregation": null,
        "pivotColumns": null,
        "xColumns": null,
        "yColumns": null
       },
       "removedWidgets": [],
       "schema": [
        {
         "metadata": "{}",
         "name": "key",
         "type": "\"string\""
        },
        {
         "metadata": "{}",
         "name": "value",
         "type": "\"string\""
        },
        {
         "metadata": "{}",
         "name": "topic",
         "type": "\"string\""
        }
       ],
       "type": "table"
      }
     },
     "output_type": "display_data"
    }
   ],
   "source": [
    "display(df)"
   ]
  },
  {
   "cell_type": "markdown",
   "metadata": {
    "application/vnd.databricks.v1+cell": {
     "cellMetadata": {},
     "inputWidgets": {},
     "nuid": "76481a56-9921-4ccf-837b-fe5ae618c0ec",
     "showTitle": false,
     "title": ""
    }
   },
   "source": [
    "## writing data from DataFrame to Confluent Topic"
   ]
  },
  {
   "cell_type": "code",
   "execution_count": 0,
   "metadata": {
    "application/vnd.databricks.v1+cell": {
     "cellMetadata": {
      "byteLimit": 2048000,
      "rowLimit": 10000
     },
     "inputWidgets": {},
     "nuid": "2b1a787d-e6d8-4c4d-8698-bf9de636f90f",
     "showTitle": false,
     "title": ""
    }
   },
   "outputs": [],
   "source": [
    "# Write key-value data from a DataFrame to a specific Kafka topic specified in an option\n",
    "ds = df.selectExpr(\"CAST(key AS STRING)\", \"CAST(value AS STRING)\")\\\n",
    "    .write.format(\"kafka\")\\\n",
    "    .option(\"kafka.bootstrap.servers\", \"pkc-419q3.us-east4.gcp.confluent.cloud:9092\")\\\n",
    "    .option(\"subscribe\", topic_name)\\\n",
    "    .option(\"kafka.security.protocol\",\"SASL_SSL\")\\\n",
    "    .option(\"kafka.sasl.mechanism\", \"PLAIN\")\\\n",
    "    .option(\"kafka.sasl.jaas.config\", \"kafkashaded.org.apache.kafka.common.security.plain.PlainLoginModule required username=\\\"MWUF36Y4OHVSNJLM\\\" password=\\\"rCTS5eZ939c3iox5iT69ePoJgCz92/ZxJRTTF/jbdcZAVMxIAcmFw9g/eO0m42os\\\";\")\\\n",
    "    .option(\"topic\", topic_name)\\\n",
    "    .save()"
   ]
  },
  {
   "cell_type": "markdown",
   "metadata": {
    "application/vnd.databricks.v1+cell": {
     "cellMetadata": {},
     "inputWidgets": {},
     "nuid": "26a36de5-0b92-4491-8f1e-7bf2d2087d5c",
     "showTitle": false,
     "title": ""
    }
   },
   "source": [
    "## Stream Processing\n",
    "\n",
    "## 3.1 Reading a Stream from Kafka"
   ]
  },
  {
   "cell_type": "code",
   "execution_count": 0,
   "metadata": {
    "application/vnd.databricks.v1+cell": {
     "cellMetadata": {
      "byteLimit": 2048000,
      "rowLimit": 10000
     },
     "inputWidgets": {},
     "nuid": "b6643a35-c687-451a-8076-59e3fa415a4a",
     "showTitle": false,
     "title": ""
    }
   },
   "outputs": [
    {
     "output_type": "display_data",
     "data": {
      "text/html": [
       "<style scoped>\n",
       "  .table-result-container {\n",
       "    max-height: 300px;\n",
       "    overflow: auto;\n",
       "  }\n",
       "  table, th, td {\n",
       "    border: 1px solid black;\n",
       "    border-collapse: collapse;\n",
       "  }\n",
       "  th, td {\n",
       "    padding: 5px;\n",
       "  }\n",
       "  th {\n",
       "    text-align: left;\n",
       "  }\n",
       "</style><div class='table-result-container'><table class='table-result'><thead style='background-color: white'><tr><th>key</th><th>value</th><th>topic</th><th>partition</th><th>offset</th><th>timestamp</th><th>timestampType</th></tr></thead><tbody><tr><td>MjY=</td><td>eyJwbGF5ZXJJRCI6IDI2LCAiZmlyc3ROYW1lIjogIkRlbG9uIiwgImxhc3ROYW1lIjogIldyaWdodCIsICJhZ2UiOiAzMSwgImNvdW50cnkiOiAiVW5pdGVkIFN0YXRlcyIsICJjb2xsZWdlIjogIlV0YWgifQ==</td><td>raptors-roster</td><td>1</td><td>5</td><td>2024-03-31T20:45:00.655Z</td><td>0</td></tr><tr><td>MjU=</td><td>eyJwbGF5ZXJJRCI6IDI1LCAiZmlyc3ROYW1lIjogIk90dG8iLCAibGFzdE5hbWUiOiAiUG9ydGVyIEpyLiIsICJhZ2UiOiAzMCwgImNvdW50cnkiOiAiVW5pdGVkIFN0YXRlcyIsICJjb2xsZWdlIjogIkdlb3JnZXRvd24ifQ==</td><td>raptors-roster</td><td>3</td><td>3</td><td>2024-03-31T20:45:00.655Z</td><td>0</td></tr><tr><td>Mjc=</td><td>eyJwbGF5ZXJJRCI6IDI3LCAiZmlyc3ROYW1lIjogIk1hcmMiLCAibGFzdE5hbWUiOiAiR2Fzb2wiLCAiYWdlIjogMzksICJjb3VudHJ5IjogIlNwYWluIiwgImNvbGxlZ2UiOiAiRkMgQmFyY2Vsb25hIn0=</td><td>raptors-roster</td><td>3</td><td>4</td><td>2024-03-31T20:45:00.655Z</td><td>0</td></tr><tr><td>MjQ=</td><td>eyJwbGF5ZXJJRCI6IDI0LCAiZmlyc3ROYW1lIjogIkdyZWl2aXMiLCAibGFzdE5hbWUiOiAiVmFzcXVleiIsICJhZ2UiOiAzNywgImNvdW50cnkiOiAiVmVuZXp1ZWxhIiwgImNvbGxlZ2UiOiAiTWFyeWxhbmQifQ==</td><td>raptors-roster</td><td>5</td><td>3</td><td>2024-03-31T20:45:00.655Z</td><td>0</td></tr><tr><td>MjM=</td><td>eyJwbGF5ZXJJRCI6IDIzLCAiZmlyc3ROYW1lIjogIk5vcm1hbiIsICJsYXN0TmFtZSI6ICJQb3dlbGwiLCAiYWdlIjogMzAsICJjb3VudHJ5IjogIlVuaXRlZCBTdGF0ZXMiLCAiY29sbGVnZSI6ICJVQ0xBIn0=</td><td>raptors-roster</td><td>4</td><td>6</td><td>2024-03-31T20:45:00.655Z</td><td>0</td></tr></tbody></table></div>"
      ]
     },
     "metadata": {
      "application/vnd.databricks.v1+output": {
       "addedWidgets": {},
       "aggData": [],
       "aggError": "",
       "aggOverflow": false,
       "aggSchema": [],
       "aggSeriesLimitReached": false,
       "aggType": "",
       "arguments": {},
       "columnCustomDisplayInfos": {},
       "data": [
        [
         "MjY=",
         "eyJwbGF5ZXJJRCI6IDI2LCAiZmlyc3ROYW1lIjogIkRlbG9uIiwgImxhc3ROYW1lIjogIldyaWdodCIsICJhZ2UiOiAzMSwgImNvdW50cnkiOiAiVW5pdGVkIFN0YXRlcyIsICJjb2xsZWdlIjogIlV0YWgifQ==",
         "raptors-roster",
         1,
         5,
         "2024-03-31T20:45:00.655Z",
         0
        ],
        [
         "MjU=",
         "eyJwbGF5ZXJJRCI6IDI1LCAiZmlyc3ROYW1lIjogIk90dG8iLCAibGFzdE5hbWUiOiAiUG9ydGVyIEpyLiIsICJhZ2UiOiAzMCwgImNvdW50cnkiOiAiVW5pdGVkIFN0YXRlcyIsICJjb2xsZWdlIjogIkdlb3JnZXRvd24ifQ==",
         "raptors-roster",
         3,
         3,
         "2024-03-31T20:45:00.655Z",
         0
        ],
        [
         "Mjc=",
         "eyJwbGF5ZXJJRCI6IDI3LCAiZmlyc3ROYW1lIjogIk1hcmMiLCAibGFzdE5hbWUiOiAiR2Fzb2wiLCAiYWdlIjogMzksICJjb3VudHJ5IjogIlNwYWluIiwgImNvbGxlZ2UiOiAiRkMgQmFyY2Vsb25hIn0=",
         "raptors-roster",
         3,
         4,
         "2024-03-31T20:45:00.655Z",
         0
        ],
        [
         "MjQ=",
         "eyJwbGF5ZXJJRCI6IDI0LCAiZmlyc3ROYW1lIjogIkdyZWl2aXMiLCAibGFzdE5hbWUiOiAiVmFzcXVleiIsICJhZ2UiOiAzNywgImNvdW50cnkiOiAiVmVuZXp1ZWxhIiwgImNvbGxlZ2UiOiAiTWFyeWxhbmQifQ==",
         "raptors-roster",
         5,
         3,
         "2024-03-31T20:45:00.655Z",
         0
        ],
        [
         "MjM=",
         "eyJwbGF5ZXJJRCI6IDIzLCAiZmlyc3ROYW1lIjogIk5vcm1hbiIsICJsYXN0TmFtZSI6ICJQb3dlbGwiLCAiYWdlIjogMzAsICJjb3VudHJ5IjogIlVuaXRlZCBTdGF0ZXMiLCAiY29sbGVnZSI6ICJVQ0xBIn0=",
         "raptors-roster",
         4,
         6,
         "2024-03-31T20:45:00.655Z",
         0
        ]
       ],
       "datasetInfos": [],
       "dbfsResultPath": null,
       "isJsonSchema": true,
       "metadata": {
        "isDbfsCommandResult": false
       },
       "overflow": false,
       "plotOptions": {
        "customPlotOptions": {},
        "displayType": "table",
        "pivotAggregation": null,
        "pivotColumns": null,
        "xColumns": null,
        "yColumns": null
       },
       "removedWidgets": [],
       "schema": [
        {
         "metadata": "{}",
         "name": "key",
         "type": "\"binary\""
        },
        {
         "metadata": "{}",
         "name": "value",
         "type": "\"binary\""
        },
        {
         "metadata": "{}",
         "name": "topic",
         "type": "\"string\""
        },
        {
         "metadata": "{}",
         "name": "partition",
         "type": "\"integer\""
        },
        {
         "metadata": "{}",
         "name": "offset",
         "type": "\"long\""
        },
        {
         "metadata": "{}",
         "name": "timestamp",
         "type": "\"timestamp\""
        },
        {
         "metadata": "{}",
         "name": "timestampType",
         "type": "\"integer\""
        }
       ],
       "type": "table"
      }
     },
     "output_type": "display_data"
    }
   ],
   "source": [
    "# stream processing\n",
    "\n",
    "# 3.1 read stream from kafka\n",
    "\n",
    "df_stream = spark \\\n",
    "    .readStream \\\n",
    "    .format(\"kafka\") \\\n",
    "    .option(\"kafka.bootstrap.servers\", \"pkc-419q3.us-east4.gcp.confluent.cloud:9092\")\\\n",
    "    .option(\"subscribe\", topic_name)\\\n",
    "    .option(\"kafka.security.protocol\",\"SASL_SSL\")\\\n",
    "    .option(\"kafka.sasl.mechanism\", \"PLAIN\")\\\n",
    "    .option(\"kafka.sasl.jaas.config\", \"kafkashaded.org.apache.kafka.common.security.plain.PlainLoginModule required username=\\\"MWUF36Y4OHVSNJLM\\\" password=\\\"rCTS5eZ939c3iox5iT69ePoJgCz92/ZxJRTTF/jbdcZAVMxIAcmFw9g/eO0m42os\\\";\")\\\n",
    "    .load() \\\n",
    "\n",
    "display(df_stream)"
   ]
  },
  {
   "cell_type": "markdown",
   "metadata": {
    "application/vnd.databricks.v1+cell": {
     "cellMetadata": {},
     "inputWidgets": {},
     "nuid": "e2c3aa81-ef72-487f-9cc8-af8698b7ac4e",
     "showTitle": false,
     "title": ""
    }
   },
   "source": [
    "## 3.2 Write a Kafka Sink for Streaming Queries"
   ]
  },
  {
   "cell_type": "code",
   "execution_count": 0,
   "metadata": {
    "application/vnd.databricks.v1+cell": {
     "cellMetadata": {
      "byteLimit": 2048000,
      "rowLimit": 10000
     },
     "inputWidgets": {},
     "nuid": "34034a7d-1fe2-4c25-a7a3-e3f2981b34be",
     "showTitle": false,
     "title": ""
    }
   },
   "outputs": [],
   "source": [
    "# Write key-value data from a DataFrame to a specific Kafka topic specified in an option\n",
    "ds = df_stream \\\n",
    "  .selectExpr(\"CAST(key AS STRING)\", \"CAST(value AS STRING)\") \\\n",
    "  .writeStream \\\n",
    "  .format(\"kafka\") \\\n",
    "    .option(\"kafka.bootstrap.servers\", \"pkc-419q3.us-east4.gcp.confluent.cloud:9092\")\\\n",
    "    .option(\"subscribe\", topic_name)\\\n",
    "    .option(\"kafka.security.protocol\",\"SASL_SSL\")\\\n",
    "    .option(\"kafka.sasl.mechanism\", \"PLAIN\")\\\n",
    "    .option(\"kafka.sasl.jaas.config\", \"kafkashaded.org.apache.kafka.common.security.plain.PlainLoginModule required username=\\\"MWUF36Y4OHVSNJLM\\\" password=\\\"rCTS5eZ939c3iox5iT69ePoJgCz92/ZxJRTTF/jbdcZAVMxIAcmFw9g/eO0m42os\\\";\")\\\n",
    "  .option(\"topic\", topic_name) \\\n",
    "  .option(\"checkpointLocation\", \"/dbfs/dir\") \\\n",
    "  .start()"
   ]
  },
  {
   "cell_type": "markdown",
   "metadata": {
    "application/vnd.databricks.v1+cell": {
     "cellMetadata": {},
     "inputWidgets": {},
     "nuid": "65399bd9-b4a8-4b9c-a851-1e01216f0da0",
     "showTitle": false,
     "title": ""
    }
   },
   "source": [
    "## AVRO Schema"
   ]
  },
  {
   "cell_type": "code",
   "execution_count": 0,
   "metadata": {
    "application/vnd.databricks.v1+cell": {
     "cellMetadata": {
      "byteLimit": 2048000,
      "rowLimit": 10000
     },
     "inputWidgets": {},
     "nuid": "5ad3463d-95ff-4dd7-a9a4-1206c3dbed50",
     "showTitle": false,
     "title": ""
    }
   },
   "outputs": [],
   "source": [
    "player_avro = {\n",
    "    \"type\": \"record\",\n",
    "    \"name\": \"playerInfo\",\n",
    "    \"namespace\": \"torontoRaptors\",\n",
    "    \"fields\": [\n",
    "        {\n",
    "            \"name\": \"playerID\",\n",
    "            \"type\": \"int\"\n",
    "        },\n",
    "        {\n",
    "            \"name\": \"firstName\",\n",
    "            \"type\": \"string\",\n",
    "            \"default\": \"John\"\n",
    "        },\n",
    "        {\n",
    "            \"name\": \"lastName\",\n",
    "            \"type\": \"string\",\n",
    "            \"default\": \"Doe\"\n",
    "        },\n",
    "        {\n",
    "            \"name\": \"age\",\n",
    "            \"type\": \"int\",\n",
    "            \"default\": 18\n",
    "        },\n",
    "        {\n",
    "            \"name\": \"country\",\n",
    "            \"type\": \"string\",\n",
    "            \"default\": \"Canada\"\n",
    "        },\n",
    "        {\n",
    "            \"name\": \"college\",\n",
    "            \"type\": \"string\",\n",
    "            \"default\": \"McGill University\"\n",
    "        }\n",
    "    ]\n",
    "}\n"
   ]
  },
  {
   "cell_type": "code",
   "execution_count": 0,
   "metadata": {
    "application/vnd.databricks.v1+cell": {
     "cellMetadata": {},
     "inputWidgets": {},
     "nuid": "b9132306-c149-487e-b028-e9a65163443f",
     "showTitle": false,
     "title": ""
    }
   },
   "outputs": [],
   "source": []
  }
 ],
 "metadata": {
  "application/vnd.databricks.v1+notebook": {
   "dashboards": [],
   "language": "python",
   "notebookMetadata": {
    "pythonIndentUnit": 4
   },
   "notebookName": "Jared-A1-DBRX",
   "widgets": {}
  }
 },
 "nbformat": 4,
 "nbformat_minor": 0
}
